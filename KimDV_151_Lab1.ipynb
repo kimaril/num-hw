{
 "cells": [
  {
   "cell_type": "markdown",
   "metadata": {},
   "source": [
    "# Лабораторная работа №1 (Ким Д.В., группа БПМ-151)"
   ]
  },
  {
   "cell_type": "code",
   "execution_count": 1,
   "metadata": {
    "collapsed": true
   },
   "outputs": [],
   "source": [
    "import numpy as np\n",
    "import sympy as sym\n",
    "import matplotlib.pyplot as plt\n",
    "from sympy import *\n",
    "\n",
    "%matplotlib inline"
   ]
  },
  {
   "cell_type": "code",
   "execution_count": 2,
   "metadata": {
    "collapsed": true
   },
   "outputs": [],
   "source": [
    "import time \n",
    "from tqdm import *"
   ]
  },
  {
   "cell_type": "markdown",
   "metadata": {},
   "source": [
    "# Задача 2.1. \n",
    "Даны два уравнения  $f(x)=0$ и $g(x)=0$. Найти с точностью $\\varepsilon=10^{-10}$ все корни уравнений, содержащиеся на отрезке $[a, b]$. Для решения  задачи использовать  метод бисекции.\n",
    "<br>\n",
    "$f(x) = x^4 - 7x^2 + 10$\n",
    "<br>\n",
    "$g(x) = x^4 - 4x^2 + 4$\n",
    "<br>\n",
    "$[a, b] = [0, 3]$"
   ]
  },
  {
   "cell_type": "code",
   "execution_count": 3,
   "metadata": {
    "collapsed": true
   },
   "outputs": [],
   "source": [
    "def bisection(fun, a0, b0, eps):\n",
    "    pbarb = tqdm_notebook(total = 100)\n",
    "    a = a0\n",
    "    b = b0\n",
    "    x = (a0 + b0)/2\n",
    "    while (b - a)/2 > eps:\n",
    "        pbarb.update(1)\n",
    "        x = (a + b)/2\n",
    "        if fun(a)*fun(x) < 0:\n",
    "            b = x\n",
    "        else:\n",
    "            a = x\n",
    "    x = (a + b)/2\n",
    "    return x"
   ]
  },
  {
   "cell_type": "code",
   "execution_count": 4,
   "metadata": {
    "collapsed": true
   },
   "outputs": [],
   "source": [
    "f = lambda x : x**4 - 7*x**2 + 10"
   ]
  },
  {
   "cell_type": "code",
   "execution_count": 5,
   "metadata": {
    "scrolled": true
   },
   "outputs": [
    {
     "data": {
      "image/png": "[encoded data removed]",
      "text/plain": [
       "<matplotlib.figure.Figure at 0x19a364e4160>"
      ]
     },
     "metadata": {},
     "output_type": "display_data"
    }
   ],
   "source": [
    "fx = np.arange(0, 3, 1e-3)\n",
    "fy = f(fx)\n",
    "plt.plot(fx, fy)\n",
    "plt.grid(True)"
   ]
  },
  {
   "cell_type": "markdown",
   "metadata": {},
   "source": [
    "Видим 2 корня. Один $-$ на отрезке $[1, 1.5]$, второй $-$ на отрезке $[2, 2.5]$"
   ]
  },
  {
   "cell_type": "code",
   "execution_count": 6,
   "metadata": {},
   "outputs": [
    {
     "data": {
      "application/vnd.jupyter.widget-view+json": {
       "model_id": "f733bc55925749bb870effda51a69c06",
       "version_major": 2,
       "version_minor": 0
      },
      "text/plain": [
       "A Jupyter Widget"
      ]
     },
     "metadata": {},
     "output_type": "display_data"
    },
    {
     "name": "stdout",
     "output_type": "stream",
     "text": [
      "\n"
     ]
    },
    {
     "data": {
      "text/plain": [
       "1.4142135623260401"
      ]
     },
     "execution_count": 6,
     "metadata": {},
     "output_type": "execute_result"
    }
   ],
   "source": [
    "x1 = bisection(f, 1, 1.5, 1e-10)\n",
    "x1"
   ]
  },
  {
   "cell_type": "code",
   "execution_count": 7,
   "metadata": {},
   "outputs": [
    {
     "data": {
      "text/plain": [
       "3.992752795056731e-10"
      ]
     },
     "execution_count": 7,
     "metadata": {},
     "output_type": "execute_result"
    }
   ],
   "source": [
    "f(x1)"
   ]
  },
  {
   "cell_type": "code",
   "execution_count": 8,
   "metadata": {},
   "outputs": [
    {
     "data": {
      "application/vnd.jupyter.widget-view+json": {
       "model_id": "4708c945a4024ae7b704f496d72fbe69",
       "version_major": 2,
       "version_minor": 0
      },
      "text/plain": [
       "A Jupyter Widget"
      ]
     },
     "metadata": {},
     "output_type": "display_data"
    },
    {
     "name": "stdout",
     "output_type": "stream",
     "text": [
      "\n"
     ]
    },
    {
     "data": {
      "text/plain": [
       "2.236067977442872"
      ]
     },
     "execution_count": 8,
     "metadata": {},
     "output_type": "execute_result"
    }
   ],
   "source": [
    "x2 = bisection(f, 2, 2.5, 1e-10)\n",
    "x2"
   ]
  },
  {
   "cell_type": "code",
   "execution_count": 9,
   "metadata": {},
   "outputs": [
    {
     "data": {
      "text/plain": [
       "-7.636344889760949e-10"
      ]
     },
     "execution_count": 9,
     "metadata": {},
     "output_type": "execute_result"
    }
   ],
   "source": [
    "f(x2)"
   ]
  },
  {
   "cell_type": "code",
   "execution_count": 10,
   "metadata": {},
   "outputs": [
    {
     "data": {
      "text/plain": [
       "{-sqrt(2), sqrt(2), -sqrt(5), sqrt(5)}"
      ]
     },
     "execution_count": 10,
     "metadata": {},
     "output_type": "execute_result"
    }
   ],
   "source": [
    "#Проверка встроенным методом\n",
    "x = sym.Symbol('x')\n",
    "sym.solveset(x**4 - 7*x**2 + 10, x, domain = sym.S.Reals)"
   ]
  },
  {
   "cell_type": "code",
   "execution_count": 11,
   "metadata": {
    "collapsed": true
   },
   "outputs": [],
   "source": [
    "g = lambda x : x**4 - 4*x**2 + 4"
   ]
  },
  {
   "cell_type": "code",
   "execution_count": 12,
   "metadata": {},
   "outputs": [
    {
     "data": {
      "image/png": "[encoded data removed]",
      "text/plain": [
       "<matplotlib.figure.Figure at 0x19a369fbda0>"
      ]
     },
     "metadata": {},
     "output_type": "display_data"
    }
   ],
   "source": [
    "xx = np.arange(0, 3, 1e-3)\n",
    "gy = g(xx)\n",
    "plt.plot(xx, gy)\n",
    "plt.grid(True)"
   ]
  },
  {
   "cell_type": "markdown",
   "metadata": {},
   "source": [
    "На графике не видно, есть ли корни. Построим несколько графиков, сужая область поиска."
   ]
  },
  {
   "cell_type": "code",
   "execution_count": 13,
   "metadata": {},
   "outputs": [
    {
     "data": {
      "text/plain": [
       "[1, 2, -1, 1]"
      ]
     },
     "execution_count": 13,
     "metadata": {},
     "output_type": "execute_result"
    },
    {
     "data": {
      "image/png": "[encoded data removed]",
      "text/plain": [
       "<matplotlib.figure.Figure at 0x19a37bbf9b0>"
      ]
     },
     "metadata": {},
     "output_type": "display_data"
    }
   ],
   "source": [
    "plt.plot(xx, gy)\n",
    "plt.grid(True)\n",
    "plt.axis([1, 2, -1, 1])"
   ]
  },
  {
   "cell_type": "code",
   "execution_count": 14,
   "metadata": {},
   "outputs": [
    {
     "data": {
      "text/plain": [
       "[1.38, 1.44, -0.025, 0.025]"
      ]
     },
     "execution_count": 14,
     "metadata": {},
     "output_type": "execute_result"
    },
    {
     "data": {
      "image/png": "[encoded data removed]",
      "text/plain": [
       "<matplotlib.figure.Figure at 0x19a37c51f98>"
      ]
     },
     "metadata": {},
     "output_type": "display_data"
    }
   ],
   "source": [
    "plt.plot(xx, gy)\n",
    "plt.grid(True)\n",
    "plt.axis([1.38, 1.44, -0.025, 0.025])"
   ]
  },
  {
   "cell_type": "code",
   "execution_count": 15,
   "metadata": {},
   "outputs": [
    {
     "data": {
      "text/plain": [
       "[1.4142135, 1.4142136, -1e-13, 1e-13]"
      ]
     },
     "execution_count": 15,
     "metadata": {},
     "output_type": "execute_result"
    },
    {
     "data": {
      "image/png": "[encoded data removed]",
      "text/plain": [
       "<matplotlib.figure.Figure at 0x19a36333198>"
      ]
     },
     "metadata": {},
     "output_type": "display_data"
    }
   ],
   "source": [
    "xx1 = np.arange(1.40, 1.42, 1e-8)\n",
    "yy1 = g(xx1)\n",
    "plt.plot(xx1, yy1)\n",
    "plt.grid(True)\n",
    "plt.axis([1.4142135, 1.4142136, -1e-13, 1e-13])"
   ]
  },
  {
   "cell_type": "markdown",
   "metadata": {},
   "source": [
    "Проверим что на полученном отрезке функция с заданной точностью строго выше нуля. Вычислим значение функции на отрезке $[1.41421, 1.414213]$ с шагом $step=10^{-11}$(выше чем нужная точность) и посчитаем количество значений меньше нуля."
   ]
  },
  {
   "cell_type": "code",
   "execution_count": 16,
   "metadata": {},
   "outputs": [
    {
     "data": {
      "text/plain": [
       "300000"
      ]
     },
     "execution_count": 16,
     "metadata": {},
     "output_type": "execute_result"
    }
   ],
   "source": [
    "t = np.arange(1.41421, 1.414213, 1e-11)\n",
    "t.size"
   ]
  },
  {
   "cell_type": "code",
   "execution_count": 17,
   "metadata": {},
   "outputs": [
    {
     "data": {
      "text/plain": [
       "300000"
      ]
     },
     "execution_count": 17,
     "metadata": {},
     "output_type": "execute_result"
    }
   ],
   "source": [
    "g(t).size"
   ]
  },
  {
   "cell_type": "code",
   "execution_count": 18,
   "metadata": {},
   "outputs": [
    {
     "data": {
      "text/plain": [
       "(array([], dtype=int64),)"
      ]
     },
     "execution_count": 18,
     "metadata": {},
     "output_type": "execute_result"
    }
   ],
   "source": [
    "np.where(g(t) < 0)"
   ]
  },
  {
   "cell_type": "markdown",
   "metadata": {},
   "source": [
    "# Задача 2.2. \n",
    "Найти положительный корень уравнения $f(x)=0$ с точностью $\\varepsilon=10^{-6}$,  двумя  способами:\n",
    "     1. Использовать метод бисекции. Предварительно определить отрезок локализации  [a,b].\n",
    "     2. Использовать метод Ньютона. В качестве начального приближения для метода Ньютона взять  середину отрезка локализации из п. а).\n",
    "Сравнить число итераций в п. 1, 2.\n",
    "<br>\n",
    "$f(x) = e^x + 1 - \\sqrt{9-x^2}$"
   ]
  },
  {
   "cell_type": "markdown",
   "metadata": {},
   "source": [
    "Найдем вначале корень $f(x)=0$ на отрезке $[0,3]$ с помощью метода бисекции."
   ]
  },
  {
   "cell_type": "code",
   "execution_count": 19,
   "metadata": {
    "collapsed": true
   },
   "outputs": [],
   "source": [
    "def f1(x):\n",
    "    return (np.e)**x + 1 - np.sqrt(9-x**2)"
   ]
  },
  {
   "cell_type": "code",
   "execution_count": 20,
   "metadata": {
    "collapsed": true
   },
   "outputs": [],
   "source": [
    "x = Symbol('x')\n",
    "f1s = exp(x) + 1 - sqrt(9-x**2)"
   ]
  },
  {
   "cell_type": "code",
   "execution_count": 21,
   "metadata": {},
   "outputs": [
    {
     "data": {
      "image/png": "[encoded data removed]",
      "text/plain": [
       "<matplotlib.figure.Figure at 0x19a37d13be0>"
      ]
     },
     "metadata": {},
     "output_type": "display_data"
    }
   ],
   "source": [
    "f1x = np.arange(-3, 3, 1e-3)\n",
    "f1y = f1(f1x)\n",
    "plt.plot(f1x, f1y)\n",
    "plt.grid(True)"
   ]
  },
  {
   "cell_type": "code",
   "execution_count": 22,
   "metadata": {
    "collapsed": true
   },
   "outputs": [],
   "source": [
    "def newton(xstart, fun, eps):\n",
    "    pbarn = tqdm_notebook(total = 100)\n",
    "    x0 = xstart\n",
    "    xi = x0 - fun.evalf(subs={x:x0})/diff(fun,x).evalf(subs={x:x0})\n",
    "    while abs(xi - x0) > eps:\n",
    "        pbarn.update(1)\n",
    "        x0 = xi\n",
    "        xi = x0 - fun.evalf(subs={x:x0})/diff(fun,x).evalf(subs={x:x0})\n",
    "    return float(xi)"
   ]
  },
  {
   "cell_type": "code",
   "execution_count": 23,
   "metadata": {},
   "outputs": [
    {
     "data": {
      "application/vnd.jupyter.widget-view+json": {
       "model_id": "5d3d41d504b740339273b5639d8d3e5c",
       "version_major": 2,
       "version_minor": 0
      },
      "text/plain": [
       "A Jupyter Widget"
      ]
     },
     "metadata": {},
     "output_type": "display_data"
    },
    {
     "name": "stdout",
     "output_type": "stream",
     "text": [
      "\n"
     ]
    },
    {
     "data": {
      "text/plain": [
       "0.6561534966854013"
      ]
     },
     "execution_count": 23,
     "metadata": {},
     "output_type": "execute_result"
    }
   ],
   "source": [
    "x_appr_n = newton(0, f1s, 1e-6)\n",
    "x_appr_n"
   ]
  },
  {
   "cell_type": "code",
   "execution_count": 24,
   "metadata": {},
   "outputs": [
    {
     "data": {
      "application/vnd.jupyter.widget-view+json": {
       "model_id": "c5c1a3230ef246d59902e6673956932d",
       "version_major": 2,
       "version_minor": 0
      },
      "text/plain": [
       "A Jupyter Widget"
      ]
     },
     "metadata": {},
     "output_type": "display_data"
    },
    {
     "name": "stdout",
     "output_type": "stream",
     "text": [
      "\n"
     ]
    },
    {
     "data": {
      "text/plain": [
       "0.656153678894043"
      ]
     },
     "execution_count": 24,
     "metadata": {},
     "output_type": "execute_result"
    }
   ],
   "source": [
    "x_appr_bis = bisection(f1, 0, 1, 1e-6)\n",
    "x_appr_bis"
   ]
  },
  {
   "cell_type": "code",
   "execution_count": 25,
   "metadata": {},
   "outputs": [
    {
     "data": {
      "text/plain": [
       "[0.65615, 0.65616, -1e-05, 1e-05]"
      ]
     },
     "execution_count": 25,
     "metadata": {},
     "output_type": "execute_result"
    },
    {
     "data": {
      "image/png": "[encoded data removed]",
      "text/plain": [
       "<matplotlib.figure.Figure at 0x19a38f7bcf8>"
      ]
     },
     "metadata": {},
     "output_type": "display_data"
    }
   ],
   "source": [
    "f1x = np.arange(-3, 3, 1e-3)\n",
    "f1y = f1(f1x)\n",
    "plt.plot(f1x, f1y)\n",
    "plt.scatter(x_appr_n, f1(x_appr_n), c='g') # метод Ньютона\n",
    "plt.scatter(x_appr_bis, f1(x_appr_bis), c='r') # бисекция \n",
    "plt.grid(True)\n",
    "plt.axis([0.65615,0.65616,-0.00001,0.00001])"
   ]
  },
  {
   "cell_type": "markdown",
   "metadata": {},
   "source": [
    "# Задача 2.3\n",
    "Локализовать корни уравнения $f(x)=0$ и найти их с точностью $\\varepsilon=10^{-5}$, используя метод простой итерации. К виду $x=\\phi(x)$, удобному для итераций, уравнение $f(x)=0$ привести двумя способами\n",
    "1. Преобразовать уравнение к виду  $x=x-\\alpha\\:f(x)$,    где $\\alpha=\\frac{2}{M+m}$, $0<m\\leq f'(x)\\leq M$, а $x$ принадлежит отрезку    локализации $[a, b]$.\n",
    "2. Любым  другим  преобразованием  уравнения. Проверить достаточное условие сходимости метода. \n",
    "<br>\n",
    "\n",
    "Использовать критерий окончания итерационного процесса вида $\\Bigr|\\:x^{(n)}-x^{(n-1)}\\:\\Bigr|<\\frac{1-q}{q}\\varepsilon$, где:\n",
    "<br>в  п. 1)  $q=\\frac{M-m}{M+m}$, \n",
    "<br>в п. 2)  $q = \\max\\limits_{x\\in[a,b]}\\Bigr|\\:\\phi'(x)\\:\\Bigr|$.\n",
    "<br>\n",
    "Cравнить число итераций и значения величины $q$  в  п. 1),  2).\n",
    "<br>\n",
    "$f(x)=\\sin(x+2)-x^2+2x-1$"
   ]
  },
  {
   "cell_type": "code",
   "execution_count": 26,
   "metadata": {
    "collapsed": true
   },
   "outputs": [],
   "source": [
    "def f3(x_): \n",
    "    return np.sin(x_+2) - x_**2 + 2*x_ - 1"
   ]
  },
  {
   "cell_type": "code",
   "execution_count": 27,
   "metadata": {},
   "outputs": [
    {
     "data": {
      "image/png": "[encoded data removed]",
      "text/plain": [
       "<matplotlib.figure.Figure at 0x19a38f685f8>"
      ]
     },
     "metadata": {},
     "output_type": "display_data"
    }
   ],
   "source": [
    "f3x = np.arange(-10, 10, 1e-3)\n",
    "f3y = f3(f3x)\n",
    "plt.plot(f3x, f3y)\n",
    "plt.grid(True)"
   ]
  },
  {
   "cell_type": "code",
   "execution_count": 28,
   "metadata": {},
   "outputs": [
    {
     "data": {
      "text/plain": [
       "[-0.1, 1.2, -0.5, 0.5]"
      ]
     },
     "execution_count": 28,
     "metadata": {},
     "output_type": "execute_result"
    },
    {
     "data": {
      "image/png": "[encoded data removed]",
      "text/plain": [
       "<matplotlib.figure.Figure at 0x19a38cad8d0>"
      ]
     },
     "metadata": {},
     "output_type": "display_data"
    }
   ],
   "source": [
    "plt.plot(f3x, f3y)\n",
    "plt.grid(True)\n",
    "plt.axis([-0.1, 1.2, -0.5, 0.5])"
   ]
  },
  {
   "cell_type": "code",
   "execution_count": 29,
   "metadata": {
    "collapsed": true
   },
   "outputs": [],
   "source": [
    "def f3s(x): \n",
    "    return sin(x+2) - x**2 + 2*x - 1"
   ]
  },
  {
   "cell_type": "markdown",
   "metadata": {
    "collapsed": true
   },
   "source": [
    "Отрезки локализации: $[0,\\:0.2]$, $[1,\\:1.2]$"
   ]
  },
  {
   "cell_type": "code",
   "execution_count": 30,
   "metadata": {
    "collapsed": true
   },
   "outputs": [],
   "source": [
    "def fpit(fun, a, b, eps):\n",
    "    pbarfp = tqdm_notebook(total = 100)\n",
    "    m0 = sym.diff(fun(sym.Symbol('x')), sym.Symbol('x')).subs(sym.Symbol('x'), a).evalf()\n",
    "    M0 = sym.diff(fun(sym.Symbol('x')), sym.Symbol('x')).subs(sym.Symbol('x'), b).evalf()\n",
    "    m = abs(m0)\n",
    "    M = abs(M0)\n",
    "    if m > M:\n",
    "        m, M = M, m\n",
    "    q = (M - m)/(M + m)\n",
    "    alpha = 2/(M0 + m0)\n",
    "    print(\"q =\", q)\n",
    "    #Достаточное условие\n",
    "    if q >= 1:\n",
    "        print(\"q >= 1\")\n",
    "        return 0\n",
    "    x0 = (a + b)/2\n",
    "    x1 = x0 - alpha*fun(x0).evalf()\n",
    "    while abs(x1 - x0) > (1 - q)/q*eps:\n",
    "        pbarfp.update(1)\n",
    "        x0 = x1\n",
    "        x1 = x0 - alpha*fun(x0).evalf()\n",
    "    return x1"
   ]
  },
  {
   "cell_type": "code",
   "execution_count": 36,
   "metadata": {},
   "outputs": [
    {
     "data": {
      "application/vnd.jupyter.widget-view+json": {
       "model_id": "475e1d4926b34944a9b37421386fb6c0",
       "version_major": 2,
       "version_minor": 0
      },
      "text/plain": [
       "A Jupyter Widget"
      ]
     },
     "metadata": {},
     "output_type": "display_data"
    },
    {
     "name": "stdout",
     "output_type": "stream",
     "text": [
      "q = 0.220530498568303\n",
      "\n"
     ]
    }
   ],
   "source": [
    "x1_pit = fpit(f3s, 0, 0.2, 1e-5)"
   ]
  },
  {
   "cell_type": "code",
   "execution_count": 37,
   "metadata": {},
   "outputs": [
    {
     "data": {
      "application/vnd.jupyter.widget-view+json": {
       "model_id": "357f256f40ea4f10bed6b9a3603bc8d0",
       "version_major": 2,
       "version_minor": 0
      },
      "text/plain": [
       "A Jupyter Widget"
      ]
     },
     "metadata": {},
     "output_type": "display_data"
    },
    {
     "name": "stdout",
     "output_type": "stream",
     "text": [
      "q = 0.170960287698064\n",
      "\n"
     ]
    }
   ],
   "source": [
    "x2_pit = fpit(f3s, 1, 1.2, 1e-5)"
   ]
  },
  {
   "cell_type": "code",
   "execution_count": 33,
   "metadata": {
    "collapsed": true
   },
   "outputs": [],
   "source": [
    "def newton_plus(func, a, b, eps):\n",
    "    pbarnp = tqdm_notebook(total = 100)\n",
    "    phidxc = np.arange(a, b, 1e-3)\n",
    "    phidyc = np.arange(a, b, 1e-3)\n",
    "    l = np.shape(phidxc)[0]\n",
    "    i = 0\n",
    "    while i < l:\n",
    "        phidyc[i] = (func(sym.Symbol('x'))*sym.diff(func(sym.Symbol('x')), sym.Symbol('x'), 2)/(sym.diff(func(sym.Symbol('x')), sym.Symbol('x'))**2)).subs(sym.Symbol('x'), phidxc[i]).evalf()\n",
    "        i += 1\n",
    "    q = np.max(phidyc)\n",
    "    print(\"q =\", q)\n",
    "    #Достаточное условие\n",
    "    if q >= 1:\n",
    "        print(\"q >= 1\")\n",
    "        return 0\n",
    "    xstart = (a + b)/2\n",
    "    x0 = xstart\n",
    "    x1 = (x0 - func(x0)/sym.diff(func(sym.Symbol('x')), sym.Symbol('x')).subs(sym.Symbol('x'), x0)).evalf()\n",
    "    while abs(x1 - x0) > (1 - q)/q*eps:\n",
    "        pbarnp.update(1)\n",
    "        x0 = x1\n",
    "        x1 = (x0 - func(x0)/sym.diff(func(sym.Symbol('x')), sym.Symbol('x')).subs(sym.Symbol('x'), x0)).evalf()\n",
    "    return x1"
   ]
  },
  {
   "cell_type": "code",
   "execution_count": 38,
   "metadata": {},
   "outputs": [
    {
     "data": {
      "application/vnd.jupyter.widget-view+json": {
       "model_id": "350c1c30711342da8b05c19bbdf70d44",
       "version_major": 2,
       "version_minor": 0
      },
      "text/plain": [
       "A Jupyter Widget"
      ]
     },
     "metadata": {},
     "output_type": "display_data"
    },
    {
     "name": "stdout",
     "output_type": "stream",
     "text": [
      "q = 0.105190833905\n",
      "\n"
     ]
    }
   ],
   "source": [
    "x1_n = newton_plus(f3s, 0, 0.2, 1e-5)"
   ]
  },
  {
   "cell_type": "code",
   "execution_count": 39,
   "metadata": {},
   "outputs": [
    {
     "data": {
      "application/vnd.jupyter.widget-view+json": {
       "model_id": "1ff6831b131d44d5bd200def6f9996d7",
       "version_major": 2,
       "version_minor": 0
      },
      "text/plain": [
       "A Jupyter Widget"
      ]
     },
     "metadata": {},
     "output_type": "display_data"
    },
    {
     "name": "stdout",
     "output_type": "stream",
     "text": [
      "q = 0.096619881356\n",
      "\n"
     ]
    }
   ],
   "source": [
    "x2_n = newton_plus(f3s, 1, 1.2, 1e-5)"
   ]
  },
  {
   "cell_type": "code",
   "execution_count": 41,
   "metadata": {},
   "outputs": [
    {
     "data": {
      "text/plain": [
       "1.03268006167168e-6"
      ]
     },
     "execution_count": 41,
     "metadata": {},
     "output_type": "execute_result"
    }
   ],
   "source": [
    "np.abs(x1_pit-x1_n)"
   ]
  },
  {
   "cell_type": "code",
   "execution_count": 42,
   "metadata": {},
   "outputs": [
    {
     "data": {
      "text/plain": [
       "1.56618039337530e-6"
      ]
     },
     "execution_count": 42,
     "metadata": {},
     "output_type": "execute_result"
    }
   ],
   "source": [
    "np.abs(x2_pit-x2_n)"
   ]
  },
  {
   "cell_type": "code",
   "execution_count": null,
   "metadata": {
    "collapsed": true
   },
   "outputs": [],
   "source": []
  }
 ],
 "metadata": {
  "kernelspec": {
   "display_name": "Python 3",
   "language": "python",
   "name": "python3"
  },
  "language_info": {
   "codemirror_mode": {
    "name": "ipython",
    "version": 3
   },
   "file_extension": ".py",
   "mimetype": "text/x-python",
   "name": "python",
   "nbconvert_exporter": "python",
   "pygments_lexer": "ipython3",
   "version": "3.6.4"
  }
 },
 "nbformat": 4,
 "nbformat_minor": 2
}
