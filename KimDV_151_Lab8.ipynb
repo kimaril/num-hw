{
 "cells": [
  {
   "cell_type": "markdown",
   "metadata": {},
   "source": [
    "### Ким Дарья Вячеславовна, БПМ-151, вариант 13"
   ]
  },
  {
   "cell_type": "markdown",
   "metadata": {},
   "source": [
    "# Лабораторная работа №8\n",
    "## ЧИСЛЕННОЕ ИНТЕГРИРОВАНИЕ"
   ]
  },
  {
   "cell_type": "code",
   "execution_count": 1,
   "metadata": {},
   "outputs": [],
   "source": [
    "import numpy as np\n",
    "import matplotlib.pyplot as plt\n",
    "import scipy.integrate as scp_integrate\n",
    "from sympy import *\n",
    "\n",
    "%matplotlib inline"
   ]
  },
  {
   "cell_type": "markdown",
   "metadata": {},
   "source": [
    "#### Задача 8.1\n",
    "\n",
    "Вычислить значение интеграла $$I = \\int\\limits_{1}^{1.44}P_n(x)dx,$$ где $$P_n(x) = \\sum\\limits_{i=0}^{n}c_ix^i,$$ с помощью квадратурных формул трапеций и Симпсона для элементарного отрезка интегрирования. Оценить величину погрешности. Применяя те же квадратурные формулы для составного отрезка интегрирования, вычислить интеграл $I$ с точностью $0.0001$. Предварительно оценить шаг интегрирования, при котором достигается заданная точность. "
   ]
  },
  {
   "cell_type": "markdown",
   "metadata": {},
   "source": [
    "| $c_0$ | $c_1$ | $c_2$ | $c_3$ | $c_4$ |\n",
    "| ----- | ----- | ----- | ----- | ----- |\n",
    "|  4.9  |  5.3  |  3.3  |  0.8  |  5.1  |"
   ]
  },
  {
   "cell_type": "code",
   "execution_count": 2,
   "metadata": {},
   "outputs": [],
   "source": [
    "c = np.array([4.9, 5.3, 3.3, 0.8, 5.1])\n",
    "epsilon = 1e-4"
   ]
  },
  {
   "cell_type": "markdown",
   "metadata": {},
   "source": [
    "Зададим многочлен $P_n(x)$:"
   ]
  },
  {
   "cell_type": "code",
   "execution_count": 3,
   "metadata": {},
   "outputs": [
    {
     "name": "stdout",
     "output_type": "stream",
     "text": [
      "     4       3       2\n",
      "4.9 x + 5.3 x + 3.3 x + 0.8 x + 5.1\n"
     ]
    }
   ],
   "source": [
    "p_n = np.poly1d(c)\n",
    "print(p_n)"
   ]
  },
  {
   "cell_type": "markdown",
   "metadata": {},
   "source": [
    "**1.** Вычислим значение интеграла $I$ c помощью встроенной функции sympy.integrate.quad."
   ]
  },
  {
   "cell_type": "code",
   "execution_count": 4,
   "metadata": {},
   "outputs": [
    {
     "data": {
      "text/plain": [
       "14.318181565951999"
      ]
     },
     "execution_count": 4,
     "metadata": {},
     "output_type": "execute_result"
    }
   ],
   "source": [
    "precise_int = scp_integrate.quad(p_n, 1, 1.44)[0]\n",
    "precise_int"
   ]
  },
  {
   "cell_type": "markdown",
   "metadata": {},
   "source": [
    "Вычислим значение интеграла $I$ по формулам трапеций и Симпсона, считая отрезок $[1, 1.44]$ элементарным отрезком интегрирования. Оценим абсолютные погрешности результатов.\n",
    "\n",
    "### Метод трапеции"
   ]
  },
  {
   "cell_type": "code",
   "execution_count": 5,
   "metadata": {},
   "outputs": [],
   "source": [
    "# стандартный метод трапеции (несоставной) без шага\n",
    "\n",
    "def itsatrap(f, a, b):\n",
    "    return (f(a)+f(b))/2*(b-a)"
   ]
  },
  {
   "cell_type": "code",
   "execution_count": 6,
   "metadata": {},
   "outputs": [
    {
     "name": "stdout",
     "output_type": "stream",
     "text": [
      "Решение методом трапеции без шага:\n",
      " 15.265733626879996\n",
      "Решение встроенным методом (аналитическое, but who cares):\n",
      " 14.318181565951999\n",
      "Абсолютная погрешность результата:\n",
      " 0.9475520609279968\n"
     ]
    }
   ],
   "source": [
    "print('Решение методом трапеции без шага:\\n {0}'.format(itsatrap(p_n, 1, 1.44)))\n",
    "print('Решение встроенным методом (аналитическое, but who cares):\\n {0}'.format(precise_int))\n",
    "print('Абсолютная погрешность результата:\\n {0}'.format(np.abs(itsatrap(p_n, 1, 1.44)-precise_int)))"
   ]
  },
  {
   "cell_type": "code",
   "execution_count": 7,
   "metadata": {},
   "outputs": [],
   "source": [
    "# f - подынтегральная функция\n",
    "# a, b - пределы интегрирования\n",
    "# h - величина шага (aka точность)\n",
    "\n",
    "def trapezoidal(f, a, b, h):\n",
    "    n=int(np.ceil((b-a)/h))\n",
    "    h_cor = (b-a)/n # корректируем шаг\n",
    "    s = 0.5*(f(a) + f(b))\n",
    "    for i in range(1, n):\n",
    "        s += f(a + i*h_cor)\n",
    "    return s*h_cor"
   ]
  },
  {
   "cell_type": "code",
   "execution_count": 8,
   "metadata": {},
   "outputs": [
    {
     "name": "stdout",
     "output_type": "stream",
     "text": [
      "Решение методом трапеции:\n",
      " 14.318181615034943\n",
      "Решение встроенным методом (аналитическое, but who cares):\n",
      " 14.318181565951999\n",
      "Абсолютная погрешность результата:\n",
      " 4.9082943931466616e-08\n"
     ]
    }
   ],
   "source": [
    "print('Решение методом трапеции:\\n {0}'.format(trapezoidal(p_n, 1, 1.44, epsilon)))\n",
    "print('Решение встроенным методом (аналитическое, but who cares):\\n {0}'.format(precise_int))\n",
    "print('Абсолютная погрешность результата:\\n {0}'.format(np.abs(trapezoidal(p_n, 1, 1.44, epsilon)-precise_int)))"
   ]
  },
  {
   "cell_type": "markdown",
   "metadata": {},
   "source": [
    "### Формула Симпсона"
   ]
  },
  {
   "cell_type": "code",
   "execution_count": 9,
   "metadata": {},
   "outputs": [],
   "source": [
    "# стандартный метод трапеции (несоставной) без шага\n",
    "\n",
    "def simsim(f, a, b):\n",
    "    return (b-a)/6*(f(a)+4*f((a+b)/2)+f(b))"
   ]
  },
  {
   "cell_type": "code",
   "execution_count": 10,
   "metadata": {},
   "outputs": [
    {
     "name": "stdout",
     "output_type": "stream",
     "text": [
      "Решение с использованем формулы Симпсона без шага:\n",
      " 14.318854973866664\n",
      "Решение встроенным методом (аналитическое, but who cares):\n",
      " 14.318181565951999\n",
      "Абсолютная погрешность результата:\n",
      " 0.0006734079146646366\n"
     ]
    }
   ],
   "source": [
    "print('Решение с использованем формулы Симпсона без шага:\\n {0}'.format(simsim(p_n, 1, 1.44)))\n",
    "print('Решение встроенным методом (аналитическое, but who cares):\\n {0}'.format(precise_int))\n",
    "print('Абсолютная погрешность результата:\\n {0}'.format(np.abs(simsim(p_n, 1, 1.44)-precise_int)))"
   ]
  },
  {
   "cell_type": "code",
   "execution_count": 11,
   "metadata": {},
   "outputs": [],
   "source": [
    "M_4 = 117.6"
   ]
  },
  {
   "cell_type": "code",
   "execution_count": 12,
   "metadata": {},
   "outputs": [],
   "source": [
    "# f - подынтегральная функция\n",
    "# a, b - пределы интегрирования\n",
    "# h - величина шага (aka точность)\n",
    "\n",
    "def simpson(f, a, b, h):\n",
    "    n = int(np.ceil((b-a)/h))\n",
    "    h_cor = (b-a)/n\n",
    "    s = f(a) + f(b)\n",
    "    for i in range(1, n+1):\n",
    "        s += 4*f(a + i*h_cor - 0.5*h_cor)\n",
    "    for i in range(1, n):\n",
    "        s += 2*f(a + i*h_cor)\n",
    "    return s*h_cor/6"
   ]
  },
  {
   "cell_type": "code",
   "execution_count": 13,
   "metadata": {},
   "outputs": [
    {
     "data": {
      "text/plain": [
       "0.2731386272486905"
      ]
     },
     "execution_count": 13,
     "metadata": {},
     "output_type": "execute_result"
    }
   ],
   "source": [
    "h = np.sqrt(np.sqrt(2880*0.0001/(117.6*(1.44-1))))\n",
    "h"
   ]
  },
  {
   "cell_type": "code",
   "execution_count": 14,
   "metadata": {},
   "outputs": [
    {
     "name": "stdout",
     "output_type": "stream",
     "text": [
      "Решение с использованем формулы Симпсона:\n",
      " 14.318223653946665\n",
      "Решение встроенным методом (аналитическое, but who cares):\n",
      " 14.318181565951999\n",
      "Абсолютная погрешность результата:\n",
      " 4.208799466631774e-05\n"
     ]
    }
   ],
   "source": [
    "print('Решение с использованем формулы Симпсона:\\n {0}'.format(simpson(p_n, 1, 1.44, h)))\n",
    "print('Решение встроенным методом (аналитическое, but who cares):\\n {0}'.format(precise_int))\n",
    "print('Абсолютная погрешность результата:\\n {0}'.format(np.abs(simpson(p_n, 1, 1.44, h)-precise_int)))"
   ]
  },
  {
   "cell_type": "markdown",
   "metadata": {},
   "source": [
    "Используя выражение для остаточных членов интегрирования $$R = \\frac{M_2(b-a)h^2}{12},$$ оценим шаги интегрирования, при которых величина погрешности каждой квадратурной формулы будет меньше $0.0001$.\n",
    "$$R = \\frac{M_2(b-a)h^2}{12}<0.0001$$\n",
    "$$h<\\sqrt{\\frac{12\\cdot0,0001}{M_2\\cdot(b-a)}}$$<br/>\n",
    "Вычислим $M_2=\\max\\limits_{[1,1.44]}|f^{(2)}(x)|=\\max\\limits_{[1,1.44]}|58.8x^2+31.8x+6.6|=174.3$  "
   ]
  },
  {
   "cell_type": "code",
   "execution_count": 15,
   "metadata": {},
   "outputs": [
    {
     "name": "stdout",
     "output_type": "stream",
     "text": [
      "      2\n",
      "58.8 x + 31.8 x + 6.6\n"
     ]
    },
    {
     "data": {
      "text/plain": [
       "174.31967999999998"
      ]
     },
     "execution_count": 15,
     "metadata": {},
     "output_type": "execute_result"
    }
   ],
   "source": [
    "print(np.poly1d(p_n.deriv(m=2))) # вторая производная подынтегральной функции\n",
    "np.poly1d(p_n.deriv(m=2))(1.44)"
   ]
  },
  {
   "cell_type": "markdown",
   "metadata": {},
   "source": [
    "Остаточный член формулы Симпсона:\n",
    "$$\\frac{M_4(b-a)\\cdot h^4}{2880}<0.0001$$\n",
    "$$h^4<\\frac{2880*0.0001}{M_4*(b-a)}$$\n",
    "$$h<\\sqrt[4]{\\frac{2880*0,0001}{M_4*(b-a)}}$$\n",
    "$M_4=\\max\\limits_{[1,1.44]}|f^{(4)}(x)| = 117.6$"
   ]
  },
  {
   "cell_type": "code",
   "execution_count": 16,
   "metadata": {},
   "outputs": [
    {
     "name": "stdout",
     "output_type": "stream",
     "text": [
      " \n",
      "117.6\n"
     ]
    }
   ],
   "source": [
    "print(np.poly1d(p_n.deriv(m=4))) # 4-я производная подынтегральной функции"
   ]
  },
  {
   "cell_type": "code",
   "execution_count": 17,
   "metadata": {},
   "outputs": [
    {
     "name": "stdout",
     "output_type": "stream",
     "text": [
      "Шаг интегрирования согласно оценке:  0.00174037856738054\n",
      "Решение полученное методом трапеции:  14.318196411452643\n",
      "Аналитическое решение:  14.318181565951999\n",
      "Абсолютная погрешность результатов:  1.4845500643900778e-05\n"
     ]
    }
   ],
   "source": [
    "ht = np.sqrt(12*0.0001/174.3197*(1.44-1))\n",
    "print('Шаг интегрирования согласно оценке: ', ht)\n",
    "print(\"Решение полученное методом трапеции: \", trapezoidal(p_n, 1, 1.44, ht))\n",
    "print(\"Аналитическое решение: \", precise_int)\n",
    "print(\"Абсолютная погрешность результатов: \",np.fabs(trapezoidal(p_n, 1, 1.44, ht) - precise_int))"
   ]
  },
  {
   "cell_type": "code",
   "execution_count": 18,
   "metadata": {},
   "outputs": [
    {
     "name": "stdout",
     "output_type": "stream",
     "text": [
      "Шаг интегрирования согласно оценке:  0.2731386272486905\n",
      "Решение полученное методом трапеции:  14.318223653946665\n",
      "Аналитическое решение:  14.318181565951999\n",
      "Абсолютная погрешность результатов:  4.208799466631774e-05\n"
     ]
    }
   ],
   "source": [
    "hs = np.power(2880*0.0001/(117.6*(1.44-1)), 1/4)\n",
    "print('Шаг интегрирования согласно оценке: ',format(hs))\n",
    "print(\"Решение полученное методом трапеции: \", simpson(p_n, 1, 1.44, hs))\n",
    "print(\"Аналитическое решение: \", precise_int)\n",
    "print(\"Абсолютная погрешность результатов: \",np.fabs(simpson(p_n, 1, 1.44, hs) - precise_int))"
   ]
  },
  {
   "cell_type": "markdown",
   "metadata": {},
   "source": [
    "### Задача 8.3\n",
    "Вычислить значение интеграла $\\int\\limits_{a}^{b}f(x)dx$ аналитически и, используя формулу центральных прямоугольников, с шагами $$h: \\frac{b-a}{2}, \\frac{b-a}{3},...,\\frac{b-a}{20}.$$ При указанных значениях $h$ найти абсолютную погрешность и оценки теоретической абсолютной погрешности. На одном чертеже построить графики найденных погрешностей. <br/>\n",
    "$$f(x) = (x+2x^4)\\cdot\\sin{x^2}$$\n",
    "$$a=0,\\; b=1.7$$\n",
    "$$M_2 = 9.045$$"
   ]
  },
  {
   "cell_type": "code",
   "execution_count": 19,
   "metadata": {},
   "outputs": [],
   "source": [
    "f = lambda x: (x+2*x**4)*np.sin(x**2)\n",
    "a = 0\n",
    "b = 1.7\n",
    "M_2 = 9.045"
   ]
  },
  {
   "cell_type": "code",
   "execution_count": 20,
   "metadata": {},
   "outputs": [
    {
     "name": "stdout",
     "output_type": "stream",
     "text": [
      "Точное значение интеграла:  5.048844370458184\n"
     ]
    }
   ],
   "source": [
    "f_prec_int = scp_integrate.quad(f, a, b)[0]\n",
    "print('Точное значение интеграла: ', f_prec_int)"
   ]
  },
  {
   "cell_type": "code",
   "execution_count": 21,
   "metadata": {},
   "outputs": [],
   "source": [
    "def illustrate(x_range, fun):\n",
    "    fig = plt.figure(figsize=(10, 6))\n",
    "    ax = plt.gca()\n",
    "    ax.xaxis.set_ticks_position('bottom')\n",
    "    ax.spines['bottom'].set_position(('data',0))\n",
    "    ax.yaxis.set_ticks_position('left')\n",
    "    ax.spines['left'].set_position(('data',0))\n",
    "    plt.plot(x_range, fun(x_range), c='tab:pink')\n",
    "    plt.grid(True)"
   ]
  },
  {
   "cell_type": "code",
   "execution_count": 22,
   "metadata": {},
   "outputs": [
    {
     "data": {
      "image/png": "[encoded data removed]",
      "text/plain": [
       "<matplotlib.figure.Figure at 0x24ef3949c50>"
      ]
     },
     "metadata": {},
     "output_type": "display_data"
    }
   ],
   "source": [
    "illustrate(np.linspace(0.0, 2.0), f)"
   ]
  },
  {
   "cell_type": "code",
   "execution_count": 23,
   "metadata": {},
   "outputs": [],
   "source": [
    "# f - подынтегральная функция\n",
    "# a, b - пределы интегрирования\n",
    "# n - количество шагов \n",
    "\n",
    "def rectangles(f, a, b, n):\n",
    "    h = float((b-a)/n)\n",
    "    s = 0\n",
    "    for i in range(1, n+1):\n",
    "        s += f(a + i*h-0.5*h)\n",
    "    return s*h"
   ]
  },
  {
   "cell_type": "code",
   "execution_count": 24,
   "metadata": {},
   "outputs": [
    {
     "name": "stdout",
     "output_type": "stream",
     "text": [
      "[5.642746952291317, 5.588334442761715, 5.393798886739161, 5.279337988099312, 5.212078038104731, 5.17005096098478, 5.1422414393448435, 5.122950281247284, 5.109044806696775, 5.098701226878094, 5.090803595159964, 5.084639549509902, 5.079737653808183, 5.075776113230772, 5.072529321519993, 5.069835377365731, 5.067575690731222, 5.0656618067047505, 5.064026673139449]\n"
     ]
    }
   ],
   "source": [
    "step_by_step = [rectangles(f, a, b, i) for i in range(2, 21)]\n",
    "print(step_by_step)"
   ]
  },
  {
   "cell_type": "code",
   "execution_count": 25,
   "metadata": {},
   "outputs": [],
   "source": [
    "indices = np.arange(1, 20)\n",
    "abs_err = [np.fabs(rectangles(f, a, b, i) - f_prec_int) for i in range(2, 21)]\n",
    "thabs_err = [(M_2*(b-a)*((b-a)/i)**2/24) for i in range(2, 21)]"
   ]
  },
  {
   "cell_type": "code",
   "execution_count": 26,
   "metadata": {},
   "outputs": [
    {
     "data": {
      "image/png": "[encoded data removed]",
      "text/plain": [
       "<matplotlib.figure.Figure at 0x24ef3bd28d0>"
      ]
     },
     "metadata": {},
     "output_type": "display_data"
    }
   ],
   "source": [
    "cyan_line, = plt.plot(indices, abs_err, label=\"Абс. погрешность\", color='tab:cyan')\n",
    "pink_line, = plt.plot(indices, thabs_err, label=\"Теор. абс. погрешность\", color='tab:pink')\n",
    "ax=plt.gca()\n",
    "ax.legend()\n",
    "plt.xlabel('Число отрезков разбиения')\n",
    "plt.ylabel('Величина погрешности')\n",
    "plt.show()"
   ]
  }
 ],
 "metadata": {
  "kernelspec": {
   "display_name": "Python 3",
   "language": "python",
   "name": "python3"
  },
  "language_info": {
   "codemirror_mode": {
    "name": "ipython",
    "version": 3
   },
   "file_extension": ".py",
   "mimetype": "text/x-python",
   "name": "python",
   "nbconvert_exporter": "python",
   "pygments_lexer": "ipython3",
   "version": "3.6.5"
  }
 },
 "nbformat": 4,
 "nbformat_minor": 2
}
