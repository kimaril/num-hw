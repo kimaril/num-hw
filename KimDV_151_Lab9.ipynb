{
 "cells": [
  {
   "cell_type": "markdown",
   "metadata": {},
   "source": [
    "## Лабораторная работа №9 (Ким Д.В., группа БПМ-151)\n",
    "### Вариант 13"
   ]
  },
  {
   "cell_type": "code",
   "execution_count": 1,
   "metadata": {},
   "outputs": [],
   "source": [
    "import numpy as np\n",
    "from sympy import *\n",
    "import math\n",
    "\n",
    "%matplotlib inline"
   ]
  },
  {
   "cell_type": "code",
   "execution_count": 2,
   "metadata": {},
   "outputs": [],
   "source": [
    "from sympy.plotting import plot"
   ]
  },
  {
   "cell_type": "code",
   "execution_count": 3,
   "metadata": {},
   "outputs": [],
   "source": [
    "import time\n",
    "from tqdm import tqdm_notebook"
   ]
  },
  {
   "cell_type": "markdown",
   "metadata": {},
   "source": [
    "### Задача 9.1\n",
    "\n",
    "Методом Ньютона найти минимум и максимум унимодальной на отрезке $[a, \\;b]$ функции $f(x)$ с точностью $\\varepsilon=10^{-6}$. Предусмотреть подсчет числа итераций, потребовавшихся для достижения заданной точности."
   ]
  },
  {
   "cell_type": "markdown",
   "metadata": {},
   "source": [
    "$$\\boldsymbol{f(x)} = e^x-\\ln{x}$$\n",
    "$$\\boldsymbol{a}=0.1\\;\\;\\;\\boldsymbol{b}=2$$"
   ]
  },
  {
   "cell_type": "markdown",
   "metadata": {},
   "source": [
    "Зададим функцию, реализующую поиск экстремума.<br/>\n",
    "Итерационнай шаг преобразован с использованием второй производной, т.е. мы просто пользуемся поиском корня производной методом Ньютона."
   ]
  },
  {
   "cell_type": "code",
   "execution_count": 4,
   "metadata": {},
   "outputs": [],
   "source": [
    "def newton(xstart, fun, eps, a, b):\n",
    "    pbar = tqdm_notebook(total = 100) # будем считать итерации\n",
    "    x0 = xstart\n",
    "    xi = x0 - diff(fun, x).evalf(subs={x:x0})/diff(diff(fun, x),x).evalf(subs={x:x0}) # символьное дифференцирование \n",
    "                                                                                      # и вычисление функции в точке\n",
    "    while abs(xi - x0) > eps:\n",
    "        pbar.update(1) # добавляем итерацию\n",
    "        x0 = xi\n",
    "        # if (x0<a or x0>b):\n",
    "           # print(\"Скорее всего, метод расходится.\")\n",
    "           # return x0\n",
    "        xi = x0 - diff(fun, x).evalf(subs={x:x0})/diff(diff(fun, x), x).evalf(subs={x:x0})\n",
    "    return float(xi)"
   ]
  },
  {
   "cell_type": "markdown",
   "metadata": {},
   "source": [
    "Зададим функцию $f(x)$, точность $\\varepsilon$ и отрезок локализации $[a,\\;b]$."
   ]
  },
  {
   "cell_type": "code",
   "execution_count": 5,
   "metadata": {},
   "outputs": [],
   "source": [
    "x = Symbol('x')\n",
    "f1 = exp(x) - log(x) #для символьного дифференцирования в методе Ньютона\n",
    "a = 0.1\n",
    "b = 2\n",
    "eps = 1e-6"
   ]
  },
  {
   "cell_type": "markdown",
   "metadata": {},
   "source": [
    "Графики функции и ее первой производной. Видим, что после корня, близкого к $0.5$ производная монотонно возрастает."
   ]
  },
  {
   "cell_type": "code",
   "execution_count": 6,
   "metadata": {
    "scrolled": true
   },
   "outputs": [
    {
     "data": {
      "image/png": "[encoded data removed]",
      "text/plain": [
       "<matplotlib.figure.Figure at 0x18aef3b5fd0>"
      ]
     },
     "metadata": {},
     "output_type": "display_data"
    },
    {
     "data": {
      "image/png": "[encoded data removed]",
      "text/plain": [
       "<matplotlib.figure.Figure at 0x18aef6ebe80>"
      ]
     },
     "metadata": {},
     "output_type": "display_data"
    },
    {
     "data": {
      "text/plain": [
       "<sympy.plotting.plot.Plot at 0x18aef6eb828>"
      ]
     },
     "execution_count": 6,
     "metadata": {},
     "output_type": "execute_result"
    }
   ],
   "source": [
    "plot(f1, (x, 1e-1, 2), axis_center=(1e-1, 3), line_color='tab:purple')\n",
    "plot(diff(f1, x), (x, 1e-1, 2), axis_center=(1e-1, 0), line_color='tab:pink')"
   ]
  },
  {
   "cell_type": "markdown",
   "metadata": {},
   "source": [
    "Судя по графику, итерации в методе Ньютона лучше начинать с точки $0.5$."
   ]
  },
  {
   "cell_type": "code",
   "execution_count": 7,
   "metadata": {
    "scrolled": true
   },
   "outputs": [
    {
     "data": {
      "application/vnd.jupyter.widget-view+json": {
       "model_id": "574c66155528488ea8ff711b9a0a2d4e",
       "version_major": 2,
       "version_minor": 0
      },
      "text/plain": [
       "HBox(children=(IntProgress(value=0), HTML(value='')))"
      ]
     },
     "metadata": {},
     "output_type": "display_data"
    },
    {
     "name": "stdout",
     "output_type": "stream",
     "text": [
      "\n"
     ]
    },
    {
     "data": {
      "text/plain": [
       "0.5671432904097838"
      ]
     },
     "execution_count": 7,
     "metadata": {},
     "output_type": "execute_result"
    }
   ],
   "source": [
    "newton(0.5, f1, eps, 1e-1, 2.0)"
   ]
  },
  {
   "cell_type": "markdown",
   "metadata": {},
   "source": [
    "По графику видно, что локальный максимум функции $f(x) = e^{x} - \\ln{x}$ на отрезке $[0.1,\\;2]$ достигается в точке $2$. Но мы ***не можем*** найти эту точку при помощи метода Ньютона, т.к. в ней не меняется знак производной (второй график)."
   ]
  },
  {
   "cell_type": "markdown",
   "metadata": {},
   "source": [
    "### Задача 9.2\n",
    "Методом Фибоначчи найти минимумы и максимумы функции $f(x)$ на отрезке $[x_1,\\;x_2]$ с точностью $\\varepsilon=10^{-6}$. Предусмотреть подсчет числа итераций, потребовавшихся для достижения заданной точности.\n",
    "$$\\cos(e^{t})$$\n",
    "$$x_1=1\\;\\;\\;x_2=2$$"
   ]
  },
  {
   "cell_type": "code",
   "execution_count": 8,
   "metadata": {},
   "outputs": [],
   "source": [
    "def fib_bine(n): # функция для вычисления чисел Фибоначчи по формуле \n",
    "    index = math.pow(5, 0.5)\n",
    "    left = (1+index)/2\n",
    "    right = (1-index)/2\n",
    "    return int(np.round((math.pow(left, n) - math.pow(right, n))/index))"
   ]
  },
  {
   "cell_type": "code",
   "execution_count": 9,
   "metadata": {},
   "outputs": [],
   "source": [
    "def fib(fun, eps, a0 = 0, b0 = 1):\n",
    "    pbar = tqdm_notebook(total=100) # подсчет итераций\n",
    "    N=0\n",
    "    a = a0\n",
    "    b = b0\n",
    "    delta = b0 - a0\n",
    "    while(delta/fib_bine(N+1)>=eps): # выясним, сколько нужно сделать итераций\n",
    "        N +=1   \n",
    "    for k in range(N):\n",
    "        pbar.update(1) # добавляем итерацию\n",
    "        alpha = a + (b-a)*fib_bine(N-k-2)/fib_bine(N-k)\n",
    "        beta = a + (b-a)*fib_bine(N-k-1)/fib_bine(N-k)\n",
    "        if fun.evalf(subs={t:alpha}) <= fun.evalf(subs={t:beta}):\n",
    "            b = beta\n",
    "        else:\n",
    "            a = alpha\n",
    "    return (a+b)/2"
   ]
  },
  {
   "cell_type": "markdown",
   "metadata": {},
   "source": [
    "Зададим функцию $f(t)$ и значения $x_1, x_2$"
   ]
  },
  {
   "cell_type": "code",
   "execution_count": 10,
   "metadata": {},
   "outputs": [],
   "source": [
    "t = Symbol('t')\n",
    "f2 = cos(exp(t))\n",
    "x1 = 1\n",
    "x2 = 2"
   ]
  },
  {
   "cell_type": "markdown",
   "metadata": {},
   "source": [
    "График функции $f(t) = \\cos(e^{t})$:"
   ]
  },
  {
   "cell_type": "code",
   "execution_count": 11,
   "metadata": {},
   "outputs": [
    {
     "data": {
      "image/png": "[encoded data removed]",
      "text/plain": [
       "<matplotlib.figure.Figure at 0x18aef6746d8>"
      ]
     },
     "metadata": {},
     "output_type": "display_data"
    },
    {
     "data": {
      "text/plain": [
       "<sympy.plotting.plot.Plot at 0x18aef674710>"
      ]
     },
     "execution_count": 11,
     "metadata": {},
     "output_type": "execute_result"
    }
   ],
   "source": [
    "plot(f2, (t, 1, 2), axis_center=(1,0), line_color='tab:purple')"
   ]
  },
  {
   "cell_type": "markdown",
   "metadata": {},
   "source": [
    "Найдём минимум функции $f(t)$ на отрезке $[1,\\;2]$."
   ]
  },
  {
   "cell_type": "code",
   "execution_count": 12,
   "metadata": {},
   "outputs": [
    {
     "data": {
      "application/vnd.jupyter.widget-view+json": {
       "model_id": "bc71450e6e144ef2bbf82e68982925a6",
       "version_major": 2,
       "version_minor": 0
      },
      "text/plain": [
       "HBox(children=(IntProgress(value=0), HTML(value='')))"
      ]
     },
     "metadata": {},
     "output_type": "display_data"
    },
    {
     "name": "stdout",
     "output_type": "stream",
     "text": [
      "\n"
     ]
    },
    {
     "data": {
      "text/plain": [
       "1.1447286188164028"
      ]
     },
     "execution_count": 12,
     "metadata": {},
     "output_type": "execute_result"
    }
   ],
   "source": [
    "fib(f2, eps, a0=1, b0=2)"
   ]
  },
  {
   "cell_type": "markdown",
   "metadata": {},
   "source": [
    "Найдём максимум (минимум $-f(t)$) функции $f(t)$ на отрезке $[1,\\;2]$."
   ]
  },
  {
   "cell_type": "code",
   "execution_count": 13,
   "metadata": {},
   "outputs": [
    {
     "data": {
      "application/vnd.jupyter.widget-view+json": {
       "model_id": "6c75025be6df4eb7b65505a6c843aa09",
       "version_major": 2,
       "version_minor": 0
      },
      "text/plain": [
       "HBox(children=(IntProgress(value=0), HTML(value='')))"
      ]
     },
     "metadata": {},
     "output_type": "display_data"
    },
    {
     "name": "stdout",
     "output_type": "stream",
     "text": [
      "\n"
     ]
    },
    {
     "data": {
      "text/plain": [
       "1.8378755829046685"
      ]
     },
     "execution_count": 13,
     "metadata": {},
     "output_type": "execute_result"
    }
   ],
   "source": [
    "fib(-f2, eps, a0=1, b0=2)"
   ]
  },
  {
   "cell_type": "markdown",
   "metadata": {},
   "source": [
    "Если верить Wolfram Mathematica, это верно."
   ]
  }
 ],
 "metadata": {
  "kernelspec": {
   "display_name": "Python 3",
   "language": "python",
   "name": "python3"
  },
  "language_info": {
   "codemirror_mode": {
    "name": "ipython",
    "version": 3
   },
   "file_extension": ".py",
   "mimetype": "text/x-python",
   "name": "python",
   "nbconvert_exporter": "python",
   "pygments_lexer": "ipython3",
   "version": "3.6.5"
  }
 },
 "nbformat": 4,
 "nbformat_minor": 2
}
